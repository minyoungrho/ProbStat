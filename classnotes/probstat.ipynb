{
 "cells": [
  {
   "cell_type": "code",
   "execution_count": 34,
   "metadata": {},
   "outputs": [],
   "source": [
    "import numpy as np\n",
    "import pandas as pd\n",
    "import math\n",
    "from matplotlib import pyplot\n"
   ]
  },
  {
   "cell_type": "markdown",
   "metadata": {},
   "source": [
    "Minyoung nation\n",
    "\n",
    "I will create my own robot 4000 citizens to the nation where they are going have\n",
    " on average 160cm height and have standard deviation of 20cm"
   ]
  },
  {
   "cell_type": "code",
   "execution_count": 35,
   "metadata": {},
   "outputs": [],
   "source": [
    "N = 4000\n",
    "citizen = pd.DataFrame({'height1':np.random.normal(loc=160,scale=20,size=N)})\n",
    "citizen['height2'] = np.random.normal(loc=160,scale=5,size=N)"
   ]
  },
  {
   "cell_type": "code",
   "execution_count": 37,
   "metadata": {},
   "outputs": [
    {
     "data": {
      "text/html": [
       "<div>\n",
       "<style scoped>\n",
       "    .dataframe tbody tr th:only-of-type {\n",
       "        vertical-align: middle;\n",
       "    }\n",
       "\n",
       "    .dataframe tbody tr th {\n",
       "        vertical-align: top;\n",
       "    }\n",
       "\n",
       "    .dataframe thead th {\n",
       "        text-align: right;\n",
       "    }\n",
       "</style>\n",
       "<table border=\"1\" class=\"dataframe\">\n",
       "  <thead>\n",
       "    <tr style=\"text-align: right;\">\n",
       "      <th></th>\n",
       "      <th>height1</th>\n",
       "      <th>height2</th>\n",
       "      <th>p</th>\n",
       "      <th>px</th>\n",
       "      <th>xmu</th>\n",
       "      <th>xmu2</th>\n",
       "      <th>pxmu2</th>\n",
       "    </tr>\n",
       "  </thead>\n",
       "  <tbody>\n",
       "    <tr>\n",
       "      <th>0</th>\n",
       "      <td>167.238534</td>\n",
       "      <td>148.229025</td>\n",
       "      <td>0.00025</td>\n",
       "      <td>0.041810</td>\n",
       "      <td>7.063638</td>\n",
       "      <td>49.894980</td>\n",
       "      <td>0.012474</td>\n",
       "    </tr>\n",
       "    <tr>\n",
       "      <th>1</th>\n",
       "      <td>152.208929</td>\n",
       "      <td>156.457239</td>\n",
       "      <td>0.00025</td>\n",
       "      <td>0.038052</td>\n",
       "      <td>-7.965967</td>\n",
       "      <td>63.456634</td>\n",
       "      <td>0.015864</td>\n",
       "    </tr>\n",
       "    <tr>\n",
       "      <th>2</th>\n",
       "      <td>172.695412</td>\n",
       "      <td>157.472220</td>\n",
       "      <td>0.00025</td>\n",
       "      <td>0.043174</td>\n",
       "      <td>12.520516</td>\n",
       "      <td>156.763311</td>\n",
       "      <td>0.039191</td>\n",
       "    </tr>\n",
       "    <tr>\n",
       "      <th>3</th>\n",
       "      <td>148.506831</td>\n",
       "      <td>162.323594</td>\n",
       "      <td>0.00025</td>\n",
       "      <td>0.037127</td>\n",
       "      <td>-11.668065</td>\n",
       "      <td>136.143739</td>\n",
       "      <td>0.034036</td>\n",
       "    </tr>\n",
       "    <tr>\n",
       "      <th>4</th>\n",
       "      <td>181.785857</td>\n",
       "      <td>163.653274</td>\n",
       "      <td>0.00025</td>\n",
       "      <td>0.045446</td>\n",
       "      <td>21.610961</td>\n",
       "      <td>467.033625</td>\n",
       "      <td>0.116758</td>\n",
       "    </tr>\n",
       "    <tr>\n",
       "      <th>...</th>\n",
       "      <td>...</td>\n",
       "      <td>...</td>\n",
       "      <td>...</td>\n",
       "      <td>...</td>\n",
       "      <td>...</td>\n",
       "      <td>...</td>\n",
       "      <td>...</td>\n",
       "    </tr>\n",
       "    <tr>\n",
       "      <th>3995</th>\n",
       "      <td>152.592620</td>\n",
       "      <td>165.656904</td>\n",
       "      <td>0.00025</td>\n",
       "      <td>0.038148</td>\n",
       "      <td>-7.582276</td>\n",
       "      <td>57.490912</td>\n",
       "      <td>0.014373</td>\n",
       "    </tr>\n",
       "    <tr>\n",
       "      <th>3996</th>\n",
       "      <td>177.578112</td>\n",
       "      <td>155.432232</td>\n",
       "      <td>0.00025</td>\n",
       "      <td>0.044395</td>\n",
       "      <td>17.403216</td>\n",
       "      <td>302.871934</td>\n",
       "      <td>0.075718</td>\n",
       "    </tr>\n",
       "    <tr>\n",
       "      <th>3997</th>\n",
       "      <td>147.195667</td>\n",
       "      <td>164.134925</td>\n",
       "      <td>0.00025</td>\n",
       "      <td>0.036799</td>\n",
       "      <td>-12.979230</td>\n",
       "      <td>168.460399</td>\n",
       "      <td>0.042115</td>\n",
       "    </tr>\n",
       "    <tr>\n",
       "      <th>3998</th>\n",
       "      <td>152.898573</td>\n",
       "      <td>162.162944</td>\n",
       "      <td>0.00025</td>\n",
       "      <td>0.038225</td>\n",
       "      <td>-7.276323</td>\n",
       "      <td>52.944876</td>\n",
       "      <td>0.013236</td>\n",
       "    </tr>\n",
       "    <tr>\n",
       "      <th>3999</th>\n",
       "      <td>138.460666</td>\n",
       "      <td>152.454375</td>\n",
       "      <td>0.00025</td>\n",
       "      <td>0.034615</td>\n",
       "      <td>-21.714230</td>\n",
       "      <td>471.507778</td>\n",
       "      <td>0.117877</td>\n",
       "    </tr>\n",
       "  </tbody>\n",
       "</table>\n",
       "<p>4000 rows × 7 columns</p>\n",
       "</div>"
      ],
      "text/plain": [
       "         height1     height2        p        px        xmu        xmu2  \\\n",
       "0     167.238534  148.229025  0.00025  0.041810   7.063638   49.894980   \n",
       "1     152.208929  156.457239  0.00025  0.038052  -7.965967   63.456634   \n",
       "2     172.695412  157.472220  0.00025  0.043174  12.520516  156.763311   \n",
       "3     148.506831  162.323594  0.00025  0.037127 -11.668065  136.143739   \n",
       "4     181.785857  163.653274  0.00025  0.045446  21.610961  467.033625   \n",
       "...          ...         ...      ...       ...        ...         ...   \n",
       "3995  152.592620  165.656904  0.00025  0.038148  -7.582276   57.490912   \n",
       "3996  177.578112  155.432232  0.00025  0.044395  17.403216  302.871934   \n",
       "3997  147.195667  164.134925  0.00025  0.036799 -12.979230  168.460399   \n",
       "3998  152.898573  162.162944  0.00025  0.038225  -7.276323   52.944876   \n",
       "3999  138.460666  152.454375  0.00025  0.034615 -21.714230  471.507778   \n",
       "\n",
       "         pxmu2  \n",
       "0     0.012474  \n",
       "1     0.015864  \n",
       "2     0.039191  \n",
       "3     0.034036  \n",
       "4     0.116758  \n",
       "...        ...  \n",
       "3995  0.014373  \n",
       "3996  0.075718  \n",
       "3997  0.042115  \n",
       "3998  0.013236  \n",
       "3999  0.117877  \n",
       "\n",
       "[4000 rows x 7 columns]"
      ]
     },
     "execution_count": 37,
     "metadata": {},
     "output_type": "execute_result"
    }
   ],
   "source": [
    "\n",
    "citizen['p'] = 1/N\n",
    "citizen['px'] = citizen['height1']*citizen['p']\n",
    "citizen['xmu'] = citizen['height1']-sum(citizen['px'])\n",
    "citizen['xmu2'] = citizen['xmu']**2\n",
    "citizen['pxmu2'] = citizen['xmu2']*citizen['p']\n",
    "\n",
    "citizen"
   ]
  },
  {
   "cell_type": "code",
   "execution_count": 22,
   "metadata": {},
   "outputs": [
    {
     "data": {
      "text/plain": [
       "405.6719885815067"
      ]
     },
     "execution_count": 22,
     "metadata": {},
     "output_type": "execute_result"
    }
   ],
   "source": [
    "first_moment_mu = sum(citizen['px'])\n",
    "first_moment_mu\n",
    "\n"
   ]
  },
  {
   "cell_type": "code",
   "execution_count": 28,
   "metadata": {
    "scrolled": true
   },
   "outputs": [
    {
     "name": "stdout",
     "output_type": "stream",
     "text": [
      "405.6719885815067\n",
      "20.14130056827281\n"
     ]
    }
   ],
   "source": [
    "second_moment_sigma2 = sum(citizen['pxmu2'])\n",
    "print(second_moment_sigma2)\n",
    "\n",
    "second_moment_sigma = math.sqrt(second_moment_sigma2)\n",
    "print(second_moment_sigma)"
   ]
  },
  {
   "cell_type": "code",
   "execution_count": 36,
   "metadata": {},
   "outputs": [
    {
     "data": {
      "image/png": "[encoded data removed]",
      "text/plain": [
       "<Figure size 432x288 with 1 Axes>"
      ]
     },
     "metadata": {
      "needs_background": "light"
     },
     "output_type": "display_data"
    }
   ],
   "source": [
    "pyplot.hist(citizen['height1'], label='sd20')\n",
    "pyplot.hist(citizen['height2'], label='sd5')\n",
    "pyplot.legend(loc='upper right')\n",
    "pyplot.show()"
   ]
  },
  {
   "cell_type": "code",
   "execution_count": 39,
   "metadata": {},
   "outputs": [
    {
     "data": {
      "text/html": [
       "<div>\n",
       "<style scoped>\n",
       "    .dataframe tbody tr th:only-of-type {\n",
       "        vertical-align: middle;\n",
       "    }\n",
       "\n",
       "    .dataframe tbody tr th {\n",
       "        vertical-align: top;\n",
       "    }\n",
       "\n",
       "    .dataframe thead th {\n",
       "        text-align: right;\n",
       "    }\n",
       "</style>\n",
       "<table border=\"1\" class=\"dataframe\">\n",
       "  <thead>\n",
       "    <tr style=\"text-align: right;\">\n",
       "      <th></th>\n",
       "      <th>covid</th>\n",
       "    </tr>\n",
       "  </thead>\n",
       "  <tbody>\n",
       "    <tr>\n",
       "      <th>0</th>\n",
       "      <td>0</td>\n",
       "    </tr>\n",
       "    <tr>\n",
       "      <th>1</th>\n",
       "      <td>0</td>\n",
       "    </tr>\n",
       "    <tr>\n",
       "      <th>2</th>\n",
       "      <td>0</td>\n",
       "    </tr>\n",
       "    <tr>\n",
       "      <th>3</th>\n",
       "      <td>0</td>\n",
       "    </tr>\n",
       "    <tr>\n",
       "      <th>4</th>\n",
       "      <td>0</td>\n",
       "    </tr>\n",
       "    <tr>\n",
       "      <th>...</th>\n",
       "      <td>...</td>\n",
       "    </tr>\n",
       "    <tr>\n",
       "      <th>3995</th>\n",
       "      <td>0</td>\n",
       "    </tr>\n",
       "    <tr>\n",
       "      <th>3996</th>\n",
       "      <td>0</td>\n",
       "    </tr>\n",
       "    <tr>\n",
       "      <th>3997</th>\n",
       "      <td>1</td>\n",
       "    </tr>\n",
       "    <tr>\n",
       "      <th>3998</th>\n",
       "      <td>0</td>\n",
       "    </tr>\n",
       "    <tr>\n",
       "      <th>3999</th>\n",
       "      <td>0</td>\n",
       "    </tr>\n",
       "  </tbody>\n",
       "</table>\n",
       "<p>4000 rows × 1 columns</p>\n",
       "</div>"
      ],
      "text/plain": [
       "      covid\n",
       "0         0\n",
       "1         0\n",
       "2         0\n",
       "3         0\n",
       "4         0\n",
       "...     ...\n",
       "3995      0\n",
       "3996      0\n",
       "3997      1\n",
       "3998      0\n",
       "3999      0\n",
       "\n",
       "[4000 rows x 1 columns]"
      ]
     },
     "execution_count": 39,
     "metadata": {},
     "output_type": "execute_result"
    }
   ],
   "source": [
    "covid = pd.DataFrame({'covid':np.random.binomial(n=1,p=0.1,size=N)})\n",
    "covid"
   ]
  },
  {
   "cell_type": "code",
   "execution_count": 42,
   "metadata": {},
   "outputs": [
    {
     "data": {
      "text/html": [
       "<div>\n",
       "<style scoped>\n",
       "    .dataframe tbody tr th:only-of-type {\n",
       "        vertical-align: middle;\n",
       "    }\n",
       "\n",
       "    .dataframe tbody tr th {\n",
       "        vertical-align: top;\n",
       "    }\n",
       "\n",
       "    .dataframe thead th {\n",
       "        text-align: right;\n",
       "    }\n",
       "</style>\n",
       "<table border=\"1\" class=\"dataframe\">\n",
       "  <thead>\n",
       "    <tr style=\"text-align: right;\">\n",
       "      <th></th>\n",
       "      <th>covid</th>\n",
       "      <th>p</th>\n",
       "      <th>px</th>\n",
       "    </tr>\n",
       "  </thead>\n",
       "  <tbody>\n",
       "    <tr>\n",
       "      <th>0</th>\n",
       "      <td>0</td>\n",
       "      <td>0.00025</td>\n",
       "      <td>0.00000</td>\n",
       "    </tr>\n",
       "    <tr>\n",
       "      <th>1</th>\n",
       "      <td>0</td>\n",
       "      <td>0.00025</td>\n",
       "      <td>0.00000</td>\n",
       "    </tr>\n",
       "    <tr>\n",
       "      <th>2</th>\n",
       "      <td>0</td>\n",
       "      <td>0.00025</td>\n",
       "      <td>0.00000</td>\n",
       "    </tr>\n",
       "    <tr>\n",
       "      <th>3</th>\n",
       "      <td>0</td>\n",
       "      <td>0.00025</td>\n",
       "      <td>0.00000</td>\n",
       "    </tr>\n",
       "    <tr>\n",
       "      <th>4</th>\n",
       "      <td>0</td>\n",
       "      <td>0.00025</td>\n",
       "      <td>0.00000</td>\n",
       "    </tr>\n",
       "    <tr>\n",
       "      <th>...</th>\n",
       "      <td>...</td>\n",
       "      <td>...</td>\n",
       "      <td>...</td>\n",
       "    </tr>\n",
       "    <tr>\n",
       "      <th>3995</th>\n",
       "      <td>0</td>\n",
       "      <td>0.00025</td>\n",
       "      <td>0.00000</td>\n",
       "    </tr>\n",
       "    <tr>\n",
       "      <th>3996</th>\n",
       "      <td>0</td>\n",
       "      <td>0.00025</td>\n",
       "      <td>0.00000</td>\n",
       "    </tr>\n",
       "    <tr>\n",
       "      <th>3997</th>\n",
       "      <td>1</td>\n",
       "      <td>0.00025</td>\n",
       "      <td>0.00025</td>\n",
       "    </tr>\n",
       "    <tr>\n",
       "      <th>3998</th>\n",
       "      <td>0</td>\n",
       "      <td>0.00025</td>\n",
       "      <td>0.00000</td>\n",
       "    </tr>\n",
       "    <tr>\n",
       "      <th>3999</th>\n",
       "      <td>0</td>\n",
       "      <td>0.00025</td>\n",
       "      <td>0.00000</td>\n",
       "    </tr>\n",
       "  </tbody>\n",
       "</table>\n",
       "<p>4000 rows × 3 columns</p>\n",
       "</div>"
      ],
      "text/plain": [
       "      covid        p       px\n",
       "0         0  0.00025  0.00000\n",
       "1         0  0.00025  0.00000\n",
       "2         0  0.00025  0.00000\n",
       "3         0  0.00025  0.00000\n",
       "4         0  0.00025  0.00000\n",
       "...     ...      ...      ...\n",
       "3995      0  0.00025  0.00000\n",
       "3996      0  0.00025  0.00000\n",
       "3997      1  0.00025  0.00025\n",
       "3998      0  0.00025  0.00000\n",
       "3999      0  0.00025  0.00000\n",
       "\n",
       "[4000 rows x 3 columns]"
      ]
     },
     "execution_count": 42,
     "metadata": {},
     "output_type": "execute_result"
    }
   ],
   "source": [
    "covid['p'] = 1/N\n",
    "covid['px'] = covid['p']*covid['covid']\n",
    "covid"
   ]
  },
  {
   "cell_type": "code",
   "execution_count": 44,
   "metadata": {},
   "outputs": [
    {
     "name": "stdout",
     "output_type": "stream",
     "text": [
      "0.09950000000000007\n"
     ]
    }
   ],
   "source": [
    "first_moment = sum(covid['px'])\n",
    "print(first_moment)"
   ]
  },
  {
   "cell_type": "code",
   "execution_count": 63,
   "metadata": {},
   "outputs": [
    {
     "data": {
      "text/plain": [
       "(array([988.,   8.,   1.,   0.,   2.,   0.,   0.,   0.,   0.,   1.]),\n",
       " array([  50010.56573495,  435609.52509751,  821208.48446006,\n",
       "        1206807.44382262, 1592406.40318518, 1978005.36254773,\n",
       "        2363604.32191029, 2749203.28127284, 3134802.2406354 ,\n",
       "        3520401.19999796, 3906000.15936051]),\n",
       " <BarContainer object of 10 artists>)"
      ]
     },
     "execution_count": 63,
     "metadata": {},
     "output_type": "execute_result"
    },
    {
     "data": {
      "image/png": "[encoded data removed]",
      "text/plain": [
       "<Figure size 432x288 with 1 Axes>"
      ]
     },
     "metadata": {
      "needs_background": "light"
     },
     "output_type": "display_data"
    }
   ],
   "source": [
    "a, m = 2, 50000  # shape and mode\n",
    "income = (np.random.pareto(a, 1000) + 1) * m\n",
    "pyplot.hist(income)"
   ]
  }
 ],
 "metadata": {
  "kernelspec": {
   "display_name": "Python 3",
   "language": "python",
   "name": "python3"
  },
  "language_info": {
   "codemirror_mode": {
    "name": "ipython",
    "version": 3
   },
   "file_extension": ".py",
   "mimetype": "text/x-python",
   "name": "python",
   "nbconvert_exporter": "python",
   "pygments_lexer": "ipython3",
   "version": "3.8.5"
  }
 },
 "nbformat": 4,
 "nbformat_minor": 4
}
