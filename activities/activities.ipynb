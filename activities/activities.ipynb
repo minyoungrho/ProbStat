{
 "cells": [
  {
   "cell_type": "markdown",
   "metadata": {},
   "source": [
    "# Activities\n",
    "\n",
    "1. You throw a pair of fair coins. The probability that the result is either both are heads or both are tails is?\n",
    "\n",
    "2. In the region where Cormac lives, it is sunny three-quarters of the days and rains for the rest. Every day Cormac makes a weather prediction by flipping a fair coin; heads mean predicting sun and tails mean predicting rain. The probability Cormac will correctly predict the weather this way on a particular day is?\n",
    "\n",
    "3. A standard deck with 52 cards — 26 red and 26 black — is shuffled. The probability that the top card is the same color as the bottom card is?\n",
    "\n",
    "4. Create a made-up dataset of annual income of a made-up nation with N number of citizens. Since most of the income distribution is known to follow [Pareto distribution](https://en.wikipedia.org/wiki/Pareto_distribution), you are welcome to use the following function:"
   ]
  },
  {
   "cell_type": "code",
   "execution_count": 1,
   "metadata": {},
   "outputs": [],
   "source": [
    "import numpy as np\n",
    "a, m = 2, 50000  # shape and mode\n",
    "income = (np.random.pareto(a, 1000) + 1) * m"
   ]
  },
  {
   "cell_type": "markdown",
   "metadata": {},
   "source": [
    "5. Draw a histogram of the annual income data.\n",
    "6. Calculate first and second moments of the data.\n",
    "7. Create a made-up dataset of the citizen's height. You can use any distribution, but height and weight are known to be distributed with normal distribution. \n",
    "8. Calculate the correlation between the income and their height."
   ]
  },
  {
   "cell_type": "markdown",
   "metadata": {},
   "source": [
    "# References:\n",
    "[Brilliant: Probability Fundamentals Course](https://brilliant.org/courses/probability-fundamentals/)"
   ]
  }
 ],
 "metadata": {
  "kernelspec": {
   "display_name": "Python 3",
   "language": "python",
   "name": "python3"
  },
  "language_info": {
   "codemirror_mode": {
    "name": "ipython",
    "version": 3
   },
   "file_extension": ".py",
   "mimetype": "text/x-python",
   "name": "python",
   "nbconvert_exporter": "python",
   "pygments_lexer": "ipython3",
   "version": "3.8.5"
  }
 },
 "nbformat": 4,
 "nbformat_minor": 4
}
