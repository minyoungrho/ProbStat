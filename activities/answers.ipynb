{
 "cells": [
  {
   "cell_type": "markdown",
   "metadata": {},
   "source": [
    "# Activities & Answers\n",
    "\n"
   ]
  },
  {
   "cell_type": "markdown",
   "metadata": {},
   "source": [
    "#### 1. You throw a pair of fair coins. The probability that the result is either both are heads or both are tails is?\n",
    "\n",
    "\n",
    "The four possible coin flips are\n",
    "\n",
    "- <span style=\"color:blue\"> heads-heads </span>\n",
    "- heads-tails\n",
    "- tails-heads\n",
    "- <span style=\"color:blue\"> tails-tails </span>\n",
    "\n",
    "and all four are equally likely. Two have our goal outcome (either both heads or both tails), so our probability of reaching it is exactly 50%.\n",
    "\n",
    "Be careful, heads-tails and tails-heads are different outcomes. Even though the coins may look the same and the overall count of heads and tails are identical, the coins are physically different and the first coin and second coin must be considered separately."
   ]
  },
  {
   "cell_type": "markdown",
   "metadata": {},
   "source": [
    "#### 2. In the region where Cormac lives, it is sunny three-quarters of the days and rains for the rest. Every day Cormac makes a weather prediction by flipping a fair coin; heads mean predicting sun and tails mean predicting rain. The probability Cormac will correctly predict the weather this way on a particular day is?"
   ]
  },
  {
   "cell_type": "markdown",
   "metadata": {},
   "source": [
    "Exactly 50%"
   ]
  },
  {
   "cell_type": "markdown",
   "metadata": {},
   "source": [
    "<img src=\"../image/prob_weather.png\" width=250 />"
   ]
  },
  {
   "cell_type": "markdown",
   "metadata": {},
   "source": [
    "#### 3. A standard deck with 52 cards — 26 red and 26 black — is shuffled. The probability that the top card is the same color as the bottom card is?"
   ]
  },
  {
   "cell_type": "markdown",
   "metadata": {},
   "source": [
    "Roughly 49%\n",
    "\n",
    "Suppose the top card is red. Then of the 51 cards remaining, 25 are red, so there is a $\\frac{25}{51}$ or roughly 49% chance the bottom card is also red.\n",
    "\n",
    "Suppose the top card is black. Then of the 51 cards remaining, 25 are black, so there is a $\\frac{25}{51}$ or roughly 49% chance the bottom card is also black.\n",
    "\n",
    "Since red and black might be the top card with equal probability, the overall probability of the top and bottom colors matching is roughly 49%.\n",
    "\n",
    "If you are having trouble with the above argument, try a diagram with a smaller number of cards; let's suppose we have 3 black and 3 red. The same card doesn't appear on both the top and the bottom of the deck, so the squares that represent that scenario have been removed from the grid. Now, let's mark in green every square where the top and bottom cards are of the same color.\n",
    "<img src=\"../image/prob_card.png\" width=250 />\n",
    "\n",
    "Total = 6*6-6 = 30\n",
    "Top and bottom same color = 12\n",
    "Prob(Top and bottom same color) = 12/30 = 0.4"
   ]
  },
  {
   "cell_type": "markdown",
   "metadata": {},
   "source": [
    "# References:\n",
    "[Brilliant: Probability Fundamentals Course](https://brilliant.org/courses/probability-fundamentals/)"
   ]
  }
 ],
 "metadata": {
  "kernelspec": {
   "display_name": "Python 3",
   "language": "python",
   "name": "python3"
  },
  "language_info": {
   "codemirror_mode": {
    "name": "ipython",
    "version": 3
   },
   "file_extension": ".py",
   "mimetype": "text/x-python",
   "name": "python",
   "nbconvert_exporter": "python",
   "pygments_lexer": "ipython3",
   "version": "3.8.5"
  }
 },
 "nbformat": 4,
 "nbformat_minor": 4
}
