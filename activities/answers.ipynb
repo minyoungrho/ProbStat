{
 "cells": [
  {
   "cell_type": "markdown",
   "metadata": {},
   "source": [
    "# Activities & Answers\n",
    "\n"
   ]
  },
  {
   "cell_type": "markdown",
   "metadata": {},
   "source": [
    "#### 1. You throw a pair of fair coins. The probability that the result is either both are heads or both are tails is?\n",
    "\n",
    "\n",
    "The four possible coin flips are\n",
    "\n",
    "- <span style=\"color:blue\"> heads-heads </span>\n",
    "- heads-tails\n",
    "- tails-heads\n",
    "- <span style=\"color:blue\"> tails-tails </span>\n",
    "\n",
    "and all four are equally likely. Two have our goal outcome (either both heads or both tails), so our probability of reaching it is exactly 50%.\n",
    "\n",
    "Be careful, heads-tails and tails-heads are different outcomes. Even though the coins may look the same and the overall count of heads and tails are identical, the coins are physically different and the first coin and second coin must be considered separately."
   ]
  },
  {
   "cell_type": "markdown",
   "metadata": {},
   "source": [
    "#### 2. In the region where Cormac lives, it is sunny three-quarters of the days and rains for the rest. Every day Cormac makes a weather prediction by flipping a fair coin; heads mean predicting sun and tails mean predicting rain. The probability Cormac will correctly predict the weather this way on a particular day is?"
   ]
  },
  {
   "cell_type": "markdown",
   "metadata": {},
   "source": [
    "Exactly 50%"
   ]
  },
  {
   "cell_type": "markdown",
   "metadata": {},
   "source": [
    "<img src=\"../image/prob_weather.png\" width=250 />"
   ]
  },
  {
   "cell_type": "markdown",
   "metadata": {},
   "source": [
    "#### 3. A standard deck with 52 cards — 26 red and 26 black — is shuffled. The probability that the top card is the same color as the bottom card is?"
   ]
  },
  {
   "cell_type": "markdown",
   "metadata": {},
   "source": [
    "Roughly 49%\n",
    "\n",
    "Suppose the top card is red. Then of the 51 cards remaining, 25 are red, so there is a $\\frac{25}{51}$ or roughly 49% chance the bottom card is also red.\n",
    "\n",
    "Suppose the top card is black. Then of the 51 cards remaining, 25 are black, so there is a $\\frac{25}{51}$ or roughly 49% chance the bottom card is also black.\n",
    "\n",
    "Since red and black might be the top card with equal probability, the overall probability of the top and bottom colors matching is roughly 49%.\n",
    "\n",
    "If you are having trouble with the above argument, try a diagram with a smaller number of cards; let's suppose we have 3 black and 3 red. The same card doesn't appear on both the top and the bottom of the deck, so the squares that represent that scenario have been removed from the grid. Now, let's mark in green every square where the top and bottom cards are of the same color.\n",
    "<img src=\"../image/prob_card.png\" width=250 />\n",
    "\n",
    "Total = 6*6-6 = 30\n",
    "Top and bottom same color = 12\n",
    "Prob(Top and bottom same color) = 12/30 = 0.4"
   ]
  },
  {
   "cell_type": "markdown",
   "metadata": {},
   "source": [
    "#### 4. Create a made-up dataset of annual income of a made-up nation with N number of citizens. Since most of the income distribution is known to follow [Pareto distribution](https://en.wikipedia.org/wiki/Pareto_distribution), you are welcome to use the following function.\n",
    "#### 5. Draw a histogram of the annual income data."
   ]
  },
  {
   "cell_type": "code",
   "execution_count": 39,
   "metadata": {},
   "outputs": [
    {
     "name": "stdout",
     "output_type": "stream",
     "text": [
      "             income\n",
      "count  4.000000e+03\n",
      "mean   2.580839e+05\n",
      "std    1.999061e+06\n",
      "min    5.000951e+04\n",
      "25%    6.423741e+04\n",
      "50%    9.240746e+04\n",
      "75%    1.722703e+05\n",
      "max    1.157803e+08\n"
     ]
    },
    {
     "data": {
      "text/plain": [
       "<AxesSubplot:ylabel='Frequency'>"
      ]
     },
     "execution_count": 39,
     "metadata": {},
     "output_type": "execute_result"
    },
    {
     "data": {
      "image/png": "[encoded data removed]",
      "text/plain": [
       "<Figure size 432x288 with 1 Axes>"
      ]
     },
     "metadata": {
      "needs_background": "light"
     },
     "output_type": "display_data"
    }
   ],
   "source": [
    "import math\n",
    "import numpy as np\n",
    "import pandas as pd\n",
    "N = 4000\n",
    "a = math.log(5)/math.log(4)\n",
    "m = 50000\n",
    "income = pd.DataFrame({'income':(np.random.pareto(a, N) + 1) * m})\n",
    "print(income.describe().round(2))\n",
    "income.plot.hist()"
   ]
  },
  {
   "cell_type": "markdown",
   "metadata": {},
   "source": [
    "Refer to [this article](https://en.wikipedia.org/wiki/Pareto_index) for understanding how the parameters are determined."
   ]
  },
  {
   "cell_type": "markdown",
   "metadata": {},
   "source": [
    "#### 6. Calculate first and second moments of the data."
   ]
  },
  {
   "cell_type": "code",
   "execution_count": 40,
   "metadata": {},
   "outputs": [
    {
     "data": {
      "text/html": [
       "<div>\n",
       "<style scoped>\n",
       "    .dataframe tbody tr th:only-of-type {\n",
       "        vertical-align: middle;\n",
       "    }\n",
       "\n",
       "    .dataframe tbody tr th {\n",
       "        vertical-align: top;\n",
       "    }\n",
       "\n",
       "    .dataframe thead th {\n",
       "        text-align: right;\n",
       "    }\n",
       "</style>\n",
       "<table border=\"1\" class=\"dataframe\">\n",
       "  <thead>\n",
       "    <tr style=\"text-align: right;\">\n",
       "      <th></th>\n",
       "      <th>income</th>\n",
       "      <th>weight</th>\n",
       "      <th>xp</th>\n",
       "    </tr>\n",
       "  </thead>\n",
       "  <tbody>\n",
       "    <tr>\n",
       "      <th>0</th>\n",
       "      <td>97732.158982</td>\n",
       "      <td>0.00025</td>\n",
       "      <td>24.433040</td>\n",
       "    </tr>\n",
       "    <tr>\n",
       "      <th>1</th>\n",
       "      <td>205331.547128</td>\n",
       "      <td>0.00025</td>\n",
       "      <td>51.332887</td>\n",
       "    </tr>\n",
       "    <tr>\n",
       "      <th>2</th>\n",
       "      <td>56124.307215</td>\n",
       "      <td>0.00025</td>\n",
       "      <td>14.031077</td>\n",
       "    </tr>\n",
       "    <tr>\n",
       "      <th>3</th>\n",
       "      <td>98331.691678</td>\n",
       "      <td>0.00025</td>\n",
       "      <td>24.582923</td>\n",
       "    </tr>\n",
       "    <tr>\n",
       "      <th>4</th>\n",
       "      <td>69807.140635</td>\n",
       "      <td>0.00025</td>\n",
       "      <td>17.451785</td>\n",
       "    </tr>\n",
       "    <tr>\n",
       "      <th>...</th>\n",
       "      <td>...</td>\n",
       "      <td>...</td>\n",
       "      <td>...</td>\n",
       "    </tr>\n",
       "    <tr>\n",
       "      <th>3995</th>\n",
       "      <td>54511.197757</td>\n",
       "      <td>0.00025</td>\n",
       "      <td>13.627799</td>\n",
       "    </tr>\n",
       "    <tr>\n",
       "      <th>3996</th>\n",
       "      <td>73782.826274</td>\n",
       "      <td>0.00025</td>\n",
       "      <td>18.445707</td>\n",
       "    </tr>\n",
       "    <tr>\n",
       "      <th>3997</th>\n",
       "      <td>50554.563582</td>\n",
       "      <td>0.00025</td>\n",
       "      <td>12.638641</td>\n",
       "    </tr>\n",
       "    <tr>\n",
       "      <th>3998</th>\n",
       "      <td>60653.192846</td>\n",
       "      <td>0.00025</td>\n",
       "      <td>15.163298</td>\n",
       "    </tr>\n",
       "    <tr>\n",
       "      <th>3999</th>\n",
       "      <td>52135.135933</td>\n",
       "      <td>0.00025</td>\n",
       "      <td>13.033784</td>\n",
       "    </tr>\n",
       "  </tbody>\n",
       "</table>\n",
       "<p>4000 rows × 3 columns</p>\n",
       "</div>"
      ],
      "text/plain": [
       "             income   weight         xp\n",
       "0      97732.158982  0.00025  24.433040\n",
       "1     205331.547128  0.00025  51.332887\n",
       "2      56124.307215  0.00025  14.031077\n",
       "3      98331.691678  0.00025  24.582923\n",
       "4      69807.140635  0.00025  17.451785\n",
       "...             ...      ...        ...\n",
       "3995   54511.197757  0.00025  13.627799\n",
       "3996   73782.826274  0.00025  18.445707\n",
       "3997   50554.563582  0.00025  12.638641\n",
       "3998   60653.192846  0.00025  15.163298\n",
       "3999   52135.135933  0.00025  13.033784\n",
       "\n",
       "[4000 rows x 3 columns]"
      ]
     },
     "execution_count": 40,
     "metadata": {},
     "output_type": "execute_result"
    }
   ],
   "source": [
    "income['weight'] = 1/N\n",
    "income['xp'] = income['income']*income['weight']\n",
    "income"
   ]
  },
  {
   "cell_type": "code",
   "execution_count": 41,
   "metadata": {},
   "outputs": [
    {
     "name": "stdout",
     "output_type": "stream",
     "text": [
      "258083.9267286315\n"
     ]
    },
    {
     "data": {
      "text/html": [
       "<div>\n",
       "<style scoped>\n",
       "    .dataframe tbody tr th:only-of-type {\n",
       "        vertical-align: middle;\n",
       "    }\n",
       "\n",
       "    .dataframe tbody tr th {\n",
       "        vertical-align: top;\n",
       "    }\n",
       "\n",
       "    .dataframe thead th {\n",
       "        text-align: right;\n",
       "    }\n",
       "</style>\n",
       "<table border=\"1\" class=\"dataframe\">\n",
       "  <thead>\n",
       "    <tr style=\"text-align: right;\">\n",
       "      <th></th>\n",
       "      <th>income</th>\n",
       "      <th>weight</th>\n",
       "      <th>xp</th>\n",
       "      <th>mu</th>\n",
       "    </tr>\n",
       "  </thead>\n",
       "  <tbody>\n",
       "    <tr>\n",
       "      <th>0</th>\n",
       "      <td>97732.158982</td>\n",
       "      <td>0.00025</td>\n",
       "      <td>24.433040</td>\n",
       "      <td>258083.926729</td>\n",
       "    </tr>\n",
       "    <tr>\n",
       "      <th>1</th>\n",
       "      <td>205331.547128</td>\n",
       "      <td>0.00025</td>\n",
       "      <td>51.332887</td>\n",
       "      <td>258083.926729</td>\n",
       "    </tr>\n",
       "    <tr>\n",
       "      <th>2</th>\n",
       "      <td>56124.307215</td>\n",
       "      <td>0.00025</td>\n",
       "      <td>14.031077</td>\n",
       "      <td>258083.926729</td>\n",
       "    </tr>\n",
       "    <tr>\n",
       "      <th>3</th>\n",
       "      <td>98331.691678</td>\n",
       "      <td>0.00025</td>\n",
       "      <td>24.582923</td>\n",
       "      <td>258083.926729</td>\n",
       "    </tr>\n",
       "    <tr>\n",
       "      <th>4</th>\n",
       "      <td>69807.140635</td>\n",
       "      <td>0.00025</td>\n",
       "      <td>17.451785</td>\n",
       "      <td>258083.926729</td>\n",
       "    </tr>\n",
       "    <tr>\n",
       "      <th>...</th>\n",
       "      <td>...</td>\n",
       "      <td>...</td>\n",
       "      <td>...</td>\n",
       "      <td>...</td>\n",
       "    </tr>\n",
       "    <tr>\n",
       "      <th>3995</th>\n",
       "      <td>54511.197757</td>\n",
       "      <td>0.00025</td>\n",
       "      <td>13.627799</td>\n",
       "      <td>258083.926729</td>\n",
       "    </tr>\n",
       "    <tr>\n",
       "      <th>3996</th>\n",
       "      <td>73782.826274</td>\n",
       "      <td>0.00025</td>\n",
       "      <td>18.445707</td>\n",
       "      <td>258083.926729</td>\n",
       "    </tr>\n",
       "    <tr>\n",
       "      <th>3997</th>\n",
       "      <td>50554.563582</td>\n",
       "      <td>0.00025</td>\n",
       "      <td>12.638641</td>\n",
       "      <td>258083.926729</td>\n",
       "    </tr>\n",
       "    <tr>\n",
       "      <th>3998</th>\n",
       "      <td>60653.192846</td>\n",
       "      <td>0.00025</td>\n",
       "      <td>15.163298</td>\n",
       "      <td>258083.926729</td>\n",
       "    </tr>\n",
       "    <tr>\n",
       "      <th>3999</th>\n",
       "      <td>52135.135933</td>\n",
       "      <td>0.00025</td>\n",
       "      <td>13.033784</td>\n",
       "      <td>258083.926729</td>\n",
       "    </tr>\n",
       "  </tbody>\n",
       "</table>\n",
       "<p>4000 rows × 4 columns</p>\n",
       "</div>"
      ],
      "text/plain": [
       "             income   weight         xp             mu\n",
       "0      97732.158982  0.00025  24.433040  258083.926729\n",
       "1     205331.547128  0.00025  51.332887  258083.926729\n",
       "2      56124.307215  0.00025  14.031077  258083.926729\n",
       "3      98331.691678  0.00025  24.582923  258083.926729\n",
       "4      69807.140635  0.00025  17.451785  258083.926729\n",
       "...             ...      ...        ...            ...\n",
       "3995   54511.197757  0.00025  13.627799  258083.926729\n",
       "3996   73782.826274  0.00025  18.445707  258083.926729\n",
       "3997   50554.563582  0.00025  12.638641  258083.926729\n",
       "3998   60653.192846  0.00025  15.163298  258083.926729\n",
       "3999   52135.135933  0.00025  13.033784  258083.926729\n",
       "\n",
       "[4000 rows x 4 columns]"
      ]
     },
     "execution_count": 41,
     "metadata": {},
     "output_type": "execute_result"
    }
   ],
   "source": [
    "mu = income['xp'].sum()\n",
    "print(mu)\n",
    "income['mu'] = mu\n",
    "income"
   ]
  },
  {
   "cell_type": "code",
   "execution_count": 42,
   "metadata": {},
   "outputs": [
    {
     "data": {
      "text/html": [
       "<div>\n",
       "<style scoped>\n",
       "    .dataframe tbody tr th:only-of-type {\n",
       "        vertical-align: middle;\n",
       "    }\n",
       "\n",
       "    .dataframe tbody tr th {\n",
       "        vertical-align: top;\n",
       "    }\n",
       "\n",
       "    .dataframe thead th {\n",
       "        text-align: right;\n",
       "    }\n",
       "</style>\n",
       "<table border=\"1\" class=\"dataframe\">\n",
       "  <thead>\n",
       "    <tr style=\"text-align: right;\">\n",
       "      <th></th>\n",
       "      <th>income</th>\n",
       "      <th>weight</th>\n",
       "      <th>xp</th>\n",
       "      <th>mu</th>\n",
       "      <th>xmu2</th>\n",
       "      <th>xmu2p</th>\n",
       "    </tr>\n",
       "  </thead>\n",
       "  <tbody>\n",
       "    <tr>\n",
       "      <th>0</th>\n",
       "      <td>97732.158982</td>\n",
       "      <td>0.00025</td>\n",
       "      <td>24.433040</td>\n",
       "      <td>258083.926729</td>\n",
       "      <td>2.571269e+10</td>\n",
       "      <td>6.428172e+06</td>\n",
       "    </tr>\n",
       "    <tr>\n",
       "      <th>1</th>\n",
       "      <td>205331.547128</td>\n",
       "      <td>0.00025</td>\n",
       "      <td>51.332887</td>\n",
       "      <td>258083.926729</td>\n",
       "      <td>2.782814e+09</td>\n",
       "      <td>6.957034e+05</td>\n",
       "    </tr>\n",
       "    <tr>\n",
       "      <th>2</th>\n",
       "      <td>56124.307215</td>\n",
       "      <td>0.00025</td>\n",
       "      <td>14.031077</td>\n",
       "      <td>258083.926729</td>\n",
       "      <td>4.078769e+10</td>\n",
       "      <td>1.019692e+07</td>\n",
       "    </tr>\n",
       "    <tr>\n",
       "      <th>3</th>\n",
       "      <td>98331.691678</td>\n",
       "      <td>0.00025</td>\n",
       "      <td>24.582923</td>\n",
       "      <td>258083.926729</td>\n",
       "      <td>2.552078e+10</td>\n",
       "      <td>6.380194e+06</td>\n",
       "    </tr>\n",
       "    <tr>\n",
       "      <th>4</th>\n",
       "      <td>69807.140635</td>\n",
       "      <td>0.00025</td>\n",
       "      <td>17.451785</td>\n",
       "      <td>258083.926729</td>\n",
       "      <td>3.544815e+10</td>\n",
       "      <td>8.862037e+06</td>\n",
       "    </tr>\n",
       "    <tr>\n",
       "      <th>...</th>\n",
       "      <td>...</td>\n",
       "      <td>...</td>\n",
       "      <td>...</td>\n",
       "      <td>...</td>\n",
       "      <td>...</td>\n",
       "      <td>...</td>\n",
       "    </tr>\n",
       "    <tr>\n",
       "      <th>3995</th>\n",
       "      <td>54511.197757</td>\n",
       "      <td>0.00025</td>\n",
       "      <td>13.627799</td>\n",
       "      <td>258083.926729</td>\n",
       "      <td>4.144186e+10</td>\n",
       "      <td>1.036046e+07</td>\n",
       "    </tr>\n",
       "    <tr>\n",
       "      <th>3996</th>\n",
       "      <td>73782.826274</td>\n",
       "      <td>0.00025</td>\n",
       "      <td>18.445707</td>\n",
       "      <td>258083.926729</td>\n",
       "      <td>3.396690e+10</td>\n",
       "      <td>8.491724e+06</td>\n",
       "    </tr>\n",
       "    <tr>\n",
       "      <th>3997</th>\n",
       "      <td>50554.563582</td>\n",
       "      <td>0.00025</td>\n",
       "      <td>12.638641</td>\n",
       "      <td>258083.926729</td>\n",
       "      <td>4.306844e+10</td>\n",
       "      <td>1.076711e+07</td>\n",
       "    </tr>\n",
       "    <tr>\n",
       "      <th>3998</th>\n",
       "      <td>60653.192846</td>\n",
       "      <td>0.00025</td>\n",
       "      <td>15.163298</td>\n",
       "      <td>258083.926729</td>\n",
       "      <td>3.897889e+10</td>\n",
       "      <td>9.744724e+06</td>\n",
       "    </tr>\n",
       "    <tr>\n",
       "      <th>3999</th>\n",
       "      <td>52135.135933</td>\n",
       "      <td>0.00025</td>\n",
       "      <td>13.033784</td>\n",
       "      <td>258083.926729</td>\n",
       "      <td>4.241490e+10</td>\n",
       "      <td>1.060373e+07</td>\n",
       "    </tr>\n",
       "  </tbody>\n",
       "</table>\n",
       "<p>4000 rows × 6 columns</p>\n",
       "</div>"
      ],
      "text/plain": [
       "             income   weight         xp             mu          xmu2  \\\n",
       "0      97732.158982  0.00025  24.433040  258083.926729  2.571269e+10   \n",
       "1     205331.547128  0.00025  51.332887  258083.926729  2.782814e+09   \n",
       "2      56124.307215  0.00025  14.031077  258083.926729  4.078769e+10   \n",
       "3      98331.691678  0.00025  24.582923  258083.926729  2.552078e+10   \n",
       "4      69807.140635  0.00025  17.451785  258083.926729  3.544815e+10   \n",
       "...             ...      ...        ...            ...           ...   \n",
       "3995   54511.197757  0.00025  13.627799  258083.926729  4.144186e+10   \n",
       "3996   73782.826274  0.00025  18.445707  258083.926729  3.396690e+10   \n",
       "3997   50554.563582  0.00025  12.638641  258083.926729  4.306844e+10   \n",
       "3998   60653.192846  0.00025  15.163298  258083.926729  3.897889e+10   \n",
       "3999   52135.135933  0.00025  13.033784  258083.926729  4.241490e+10   \n",
       "\n",
       "             xmu2p  \n",
       "0     6.428172e+06  \n",
       "1     6.957034e+05  \n",
       "2     1.019692e+07  \n",
       "3     6.380194e+06  \n",
       "4     8.862037e+06  \n",
       "...            ...  \n",
       "3995  1.036046e+07  \n",
       "3996  8.491724e+06  \n",
       "3997  1.076711e+07  \n",
       "3998  9.744724e+06  \n",
       "3999  1.060373e+07  \n",
       "\n",
       "[4000 rows x 6 columns]"
      ]
     },
     "execution_count": 42,
     "metadata": {},
     "output_type": "execute_result"
    }
   ],
   "source": [
    "income['xmu2'] = (income['income']-income['mu'])**2\n",
    "income['xmu2p'] = income['xmu2']*income['weight']\n",
    "income"
   ]
  },
  {
   "cell_type": "code",
   "execution_count": 43,
   "metadata": {},
   "outputs": [
    {
     "name": "stdout",
     "output_type": "stream",
     "text": [
      "3995247598118.7163\n",
      "1998811.5464242036\n"
     ]
    }
   ],
   "source": [
    "sigma2=income['xmu2p'].sum()\n",
    "print(sigma2)\n",
    "sigma=math.sqrt(sigma2)\n",
    "print(sigma)"
   ]
  },
  {
   "cell_type": "markdown",
   "metadata": {},
   "source": [
    "#### 7. Create a made-up dataset of the citizen's height. You can use any distribution, but height and weight are known to be distributed with normal distribution. "
   ]
  },
  {
   "cell_type": "code",
   "execution_count": 47,
   "metadata": {},
   "outputs": [
    {
     "data": {
      "text/html": [
       "<div>\n",
       "<style scoped>\n",
       "    .dataframe tbody tr th:only-of-type {\n",
       "        vertical-align: middle;\n",
       "    }\n",
       "\n",
       "    .dataframe tbody tr th {\n",
       "        vertical-align: top;\n",
       "    }\n",
       "\n",
       "    .dataframe thead th {\n",
       "        text-align: right;\n",
       "    }\n",
       "</style>\n",
       "<table border=\"1\" class=\"dataframe\">\n",
       "  <thead>\n",
       "    <tr style=\"text-align: right;\">\n",
       "      <th></th>\n",
       "      <th>height</th>\n",
       "      <th>weight</th>\n",
       "    </tr>\n",
       "  </thead>\n",
       "  <tbody>\n",
       "    <tr>\n",
       "      <th>0</th>\n",
       "      <td>113.392517</td>\n",
       "      <td>67.699137</td>\n",
       "    </tr>\n",
       "    <tr>\n",
       "      <th>1</th>\n",
       "      <td>127.602228</td>\n",
       "      <td>45.449824</td>\n",
       "    </tr>\n",
       "    <tr>\n",
       "      <th>2</th>\n",
       "      <td>175.813304</td>\n",
       "      <td>41.470393</td>\n",
       "    </tr>\n",
       "    <tr>\n",
       "      <th>3</th>\n",
       "      <td>146.273725</td>\n",
       "      <td>41.832390</td>\n",
       "    </tr>\n",
       "    <tr>\n",
       "      <th>4</th>\n",
       "      <td>177.511325</td>\n",
       "      <td>50.211530</td>\n",
       "    </tr>\n",
       "    <tr>\n",
       "      <th>...</th>\n",
       "      <td>...</td>\n",
       "      <td>...</td>\n",
       "    </tr>\n",
       "    <tr>\n",
       "      <th>3995</th>\n",
       "      <td>144.514039</td>\n",
       "      <td>47.422155</td>\n",
       "    </tr>\n",
       "    <tr>\n",
       "      <th>3996</th>\n",
       "      <td>182.341459</td>\n",
       "      <td>51.853307</td>\n",
       "    </tr>\n",
       "    <tr>\n",
       "      <th>3997</th>\n",
       "      <td>188.296634</td>\n",
       "      <td>51.651995</td>\n",
       "    </tr>\n",
       "    <tr>\n",
       "      <th>3998</th>\n",
       "      <td>208.993271</td>\n",
       "      <td>60.694821</td>\n",
       "    </tr>\n",
       "    <tr>\n",
       "      <th>3999</th>\n",
       "      <td>161.791959</td>\n",
       "      <td>47.620257</td>\n",
       "    </tr>\n",
       "  </tbody>\n",
       "</table>\n",
       "<p>4000 rows × 2 columns</p>\n",
       "</div>"
      ],
      "text/plain": [
       "          height     weight\n",
       "0     113.392517  67.699137\n",
       "1     127.602228  45.449824\n",
       "2     175.813304  41.470393\n",
       "3     146.273725  41.832390\n",
       "4     177.511325  50.211530\n",
       "...          ...        ...\n",
       "3995  144.514039  47.422155\n",
       "3996  182.341459  51.853307\n",
       "3997  188.296634  51.651995\n",
       "3998  208.993271  60.694821\n",
       "3999  161.791959  47.620257\n",
       "\n",
       "[4000 rows x 2 columns]"
      ]
     },
     "execution_count": 47,
     "metadata": {},
     "output_type": "execute_result"
    }
   ],
   "source": [
    "height = pd.DataFrame({'height': np.random.normal(loc=160,scale=30, size=N),\n",
    "                       'weight': np.random.normal(loc=50,scale=10, size=N)})\n",
    "height"
   ]
  },
  {
   "cell_type": "markdown",
   "metadata": {},
   "source": [
    "\n",
    "#### 8. Calculate the correlation between the income and their height."
   ]
  },
  {
   "cell_type": "code",
   "execution_count": 48,
   "metadata": {},
   "outputs": [
    {
     "data": {
      "text/html": [
       "<div>\n",
       "<style scoped>\n",
       "    .dataframe tbody tr th:only-of-type {\n",
       "        vertical-align: middle;\n",
       "    }\n",
       "\n",
       "    .dataframe tbody tr th {\n",
       "        vertical-align: top;\n",
       "    }\n",
       "\n",
       "    .dataframe thead th {\n",
       "        text-align: right;\n",
       "    }\n",
       "</style>\n",
       "<table border=\"1\" class=\"dataframe\">\n",
       "  <thead>\n",
       "    <tr style=\"text-align: right;\">\n",
       "      <th></th>\n",
       "      <th>height</th>\n",
       "      <th>weight</th>\n",
       "    </tr>\n",
       "  </thead>\n",
       "  <tbody>\n",
       "    <tr>\n",
       "      <th>height</th>\n",
       "      <td>1.000000</td>\n",
       "      <td>-0.039718</td>\n",
       "    </tr>\n",
       "    <tr>\n",
       "      <th>weight</th>\n",
       "      <td>-0.039718</td>\n",
       "      <td>1.000000</td>\n",
       "    </tr>\n",
       "  </tbody>\n",
       "</table>\n",
       "</div>"
      ],
      "text/plain": [
       "          height    weight\n",
       "height  1.000000 -0.039718\n",
       "weight -0.039718  1.000000"
      ]
     },
     "execution_count": 48,
     "metadata": {},
     "output_type": "execute_result"
    }
   ],
   "source": [
    "height.corr()"
   ]
  },
  {
   "cell_type": "markdown",
   "metadata": {},
   "source": [
    "# References:\n",
    "[Brilliant: Probability Fundamentals Course](https://brilliant.org/courses/probability-fundamentals/)"
   ]
  }
 ],
 "metadata": {
  "kernelspec": {
   "display_name": "Python 3",
   "language": "python",
   "name": "python3"
  },
  "language_info": {
   "codemirror_mode": {
    "name": "ipython",
    "version": 3
   },
   "file_extension": ".py",
   "mimetype": "text/x-python",
   "name": "python",
   "nbconvert_exporter": "python",
   "pygments_lexer": "ipython3",
   "version": "3.8.5"
  }
 },
 "nbformat": 4,
 "nbformat_minor": 4
}
